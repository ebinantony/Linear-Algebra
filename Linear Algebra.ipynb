{
 "cells": [
  {
   "cell_type": "markdown",
   "id": "326e76bb",
   "metadata": {},
   "source": [
    "### Write a NumPy program to print the NumPy version in your system."
   ]
  },
  {
   "cell_type": "markdown",
   "id": "e1b17dc5",
   "metadata": {},
   "source": []
  },
  {
   "cell_type": "code",
   "execution_count": 3,
   "id": "02ae7fb6",
   "metadata": {},
   "outputs": [
    {
     "name": "stdout",
     "output_type": "stream",
     "text": [
      "1.19.2\n"
     ]
    }
   ],
   "source": [
    "import numpy as np\n",
    "print(np.__version__)"
   ]
  },
  {
   "cell_type": "markdown",
   "id": "70b3142c",
   "metadata": {},
   "source": [
    "### Vector using list"
   ]
  },
  {
   "cell_type": "code",
   "execution_count": 4,
   "id": "9fa08117",
   "metadata": {},
   "outputs": [
    {
     "name": "stdout",
     "output_type": "stream",
     "text": [
      "Vector a =  [3, 5, -5, 8]\n",
      "Zero Vector z =  [0, 0, 0, 0]\n"
     ]
    }
   ],
   "source": [
    "# Vector in Linear Algebra\n",
    "\n",
    "a = [3, 5, -5, 8]\n",
    "# This is a 4 dimensional vector\n",
    "# a list in python is a vector in linear algebra\n",
    "\n",
    "print(\"Vector a = \", a)\n",
    "# This is how we can print a vector in python\n",
    "\n",
    "z = [0, 0, 0, 0]\n",
    "print(\"Zero Vector z = \", z)\n",
    "# This is a zero vector"
   ]
  },
  {
   "cell_type": "markdown",
   "id": "3ec11616",
   "metadata": {},
   "source": [
    "### Defining Vector using Numpy"
   ]
  },
  {
   "cell_type": "code",
   "execution_count": 7,
   "id": "6736ac97",
   "metadata": {},
   "outputs": [
    {
     "name": "stdout",
     "output_type": "stream",
     "text": [
      "The Vector V1 = \n",
      " [[1]\n",
      " [2]\n",
      " [3]]\n",
      "The Vector V2 = \n",
      " [[ 14]\n",
      " [ 23]\n",
      " [ 35]\n",
      " [ 56]\n",
      " [754]\n",
      " [123]]\n"
     ]
    }
   ],
   "source": [
    "# Linear Algebra Learning Sequence\n",
    "# Defining a vector using numpy\n",
    "\n",
    "import numpy as np\n",
    "\n",
    "# Use of np.array() to define a vector\n",
    "V1 = np.array([[1],[2],[3]])\n",
    "V2 = np.array([[14],[23],[35],[56],[754],[123]])\n",
    "\n",
    "# printing vectors\n",
    "print(\"The Vector V1 = \\n\",V1)\n",
    "print(\"The Vector V2 = \\n\",V2)"
   ]
  },
  {
   "cell_type": "markdown",
   "id": "ce4aa50c",
   "metadata": {},
   "source": [
    "### Vector with User Defined Length"
   ]
  },
  {
   "cell_type": "code",
   "execution_count": 8,
   "id": "52f3ce6b",
   "metadata": {},
   "outputs": [
    {
     "name": "stdout",
     "output_type": "stream",
     "text": [
      "Enter the length of the vector you want to define: 6\n",
      "Enter the element: 1\n",
      "Enter the element: 2\n",
      "Enter the element: 3\n",
      "Enter the element: 4\n",
      "Enter the element: 5\n",
      "Enter the element: 6\n",
      "Vector you defined =  [1, 2, 3, 4, 5, 6]\n"
     ]
    }
   ],
   "source": [
    "n = int(input(\"Enter the length of the vector you want to define: \"))\n",
    "\n",
    "v = []\n",
    "\n",
    "for i in range(n):\n",
    "    v.append(int(input('Enter the element: ')))\n",
    "    \n",
    "print(\"Vector you defined = \", v)"
   ]
  },
  {
   "cell_type": "markdown",
   "id": "ee6d5156",
   "metadata": {},
   "source": [
    "### Adding two vectors"
   ]
  },
  {
   "cell_type": "code",
   "execution_count": 9,
   "id": "7fd78124",
   "metadata": {},
   "outputs": [
    {
     "name": "stdout",
     "output_type": "stream",
     "text": [
      "Vector a =  [3, 5, -5, 8]\n",
      "Vector b =  [4, 7, 9, -4]\n",
      "Vector Addition =  [7, 12, 4, 4]\n"
     ]
    }
   ],
   "source": [
    "#Vectors in Linear Algebra\n",
    "\n",
    "a = [3, 5, -5, 8]\n",
    "b = [4, 7, 9, -4]\n",
    "\n",
    "print(\"Vector a = \", a)\n",
    "print(\"Vector b = \", b)\n",
    "\n",
    "# This is a 4 dimensional vector\n",
    "# a list in python is a vector in linear algebra\n",
    "\n",
    "# adding vectors\n",
    "sum = []\n",
    "for i in range(len(a)):\n",
    "    sum.append(a[i] + b[i])\n",
    "\n",
    "print(\"Vector Addition = \", sum)"
   ]
  },
  {
   "cell_type": "markdown",
   "id": "2c0c893b",
   "metadata": {},
   "source": [
    "### Matrices"
   ]
  },
  {
   "cell_type": "code",
   "execution_count": 7,
   "id": "8c907292",
   "metadata": {},
   "outputs": [
    {
     "name": "stdout",
     "output_type": "stream",
     "text": [
      "[(5, 1), (6, 2)]\n",
      "Note that the length of our zipped list is 2 not (2 by 2): 2\n"
     ]
    }
   ],
   "source": [
    "b = list(zip(z,c_vector))\n",
    "print(b)\n",
    "print(\"Note that the length of our zipped list is 2 not (2 by 2):\",len(b))"
   ]
  },
  {
   "cell_type": "code",
   "execution_count": 8,
   "id": "ede9e5d4",
   "metadata": {},
   "outputs": [
    {
     "name": "stdout",
     "output_type": "stream",
     "text": [
      "But we can convert the list to a matrix like this:\n",
      "[[5 1]\n",
      " [6 2]]\n",
      "<class 'numpy.ndarray'>\n",
      "A has shape: (2, 2)\n"
     ]
    }
   ],
   "source": [
    "print( \"But we can convert the list to a matrix like this:\")\n",
    "A = np.array(b)\n",
    "print( A)\n",
    "print( type(A))\n",
    "print( \"A has shape:\",A.shape)"
   ]
  },
  {
   "cell_type": "markdown",
   "id": "b8ddf69f",
   "metadata": {},
   "source": [
    "### Matrix Addition"
   ]
  },
  {
   "cell_type": "code",
   "execution_count": 14,
   "id": "9abe595f",
   "metadata": {},
   "outputs": [
    {
     "name": "stdout",
     "output_type": "stream",
     "text": [
      "[10, 10, 10]\n",
      "[10, 10, 10]\n",
      "[10, 10, 10]\n"
     ]
    }
   ],
   "source": [
    "# Program to add two matrices using nested loop\n",
    "X = [[1,2,3],\n",
    "    [4 ,5,6],\n",
    "    [7 ,8,9]]\n",
    "\n",
    "Y = [[9,8,7],\n",
    "    [6,5,4],\n",
    "    [3,2,1]]\n",
    "\n",
    "result = [[0,0,0],\n",
    "        [0,0,0],\n",
    "        [0,0,0]]\n",
    "\n",
    "# iterate through rows\n",
    "for i in range(len(X)):\n",
    "# iterate through columns\n",
    "    for j in range(len(X)):\n",
    "        result[i][j] = X[i][j] + Y[i][j]\n",
    "\n",
    "for r in result:\n",
    "    print(r)"
   ]
  },
  {
   "cell_type": "code",
   "execution_count": 11,
   "id": "24a9ebc2",
   "metadata": {},
   "outputs": [
    {
     "name": "stdout",
     "output_type": "stream",
     "text": [
      "Printing elements of first matrix\n",
      "[[1 2]\n",
      " [3 4]]\n",
      "Printing elements of second matrix\n",
      "[[4 5]\n",
      " [6 7]]\n",
      "Addition of two matrix\n",
      "[[ 5  7]\n",
      " [ 9 11]]\n"
     ]
    }
   ],
   "source": [
    "# importing numpy as np\n",
    "import numpy as np\n",
    "\n",
    "\n",
    "# creating first matrix\n",
    "A = np.array([[1, 2], [3, 4]])\n",
    "\n",
    "# creating second matrix\n",
    "B = np.array([[4, 5], [6, 7]])\n",
    "\n",
    "print(\"Printing elements of first matrix\")\n",
    "print(A)\n",
    "print(\"Printing elements of second matrix\")\n",
    "print(B)\n",
    "\n",
    "# adding two matrix\n",
    "print(\"Addition of two matrix\")\n",
    "print(np.add(A, B))"
   ]
  },
  {
   "cell_type": "code",
   "execution_count": 12,
   "id": "add58366",
   "metadata": {},
   "outputs": [
    {
     "name": "stdout",
     "output_type": "stream",
     "text": [
      "Printing elements of first matrix\n",
      "[[1 2]\n",
      " [3 4]]\n",
      "Printing elements of second matrix\n",
      "[[4 5]\n",
      " [6 7]]\n",
      "Subtraction of two matrix\n",
      "[[-3 -3]\n",
      " [-3 -3]]\n"
     ]
    }
   ],
   "source": [
    "# importing numpy as np\n",
    "import numpy as np\n",
    "\n",
    "\n",
    "# creating first matrix\n",
    "A = np.array([[1, 2], [3, 4]])\n",
    "\n",
    "# creating second matrix\n",
    "B = np.array([[4, 5], [6, 7]])\n",
    "\n",
    "print(\"Printing elements of first matrix\")\n",
    "print(A)\n",
    "print(\"Printing elements of second matrix\")\n",
    "print(B)\n",
    "\n",
    "# subtracting two matrix\n",
    "print(\"Subtraction of two matrix\")\n",
    "print(np.subtract(A, B))"
   ]
  },
  {
   "cell_type": "markdown",
   "id": "8b7f488a",
   "metadata": {},
   "source": [
    "### Take Matrix input from user "
   ]
  },
  {
   "cell_type": "code",
   "execution_count": 13,
   "id": "3cbec571",
   "metadata": {},
   "outputs": [
    {
     "name": "stdout",
     "output_type": "stream",
     "text": [
      "Enter the number of rows:2\n",
      "Enter the number of columns:3\n",
      "Enter the entries rowwise:\n",
      "1\n",
      "2\n",
      "3\n",
      "3\n",
      "3\n",
      "3\n",
      "1 2 3 \n",
      "3 3 3 \n"
     ]
    }
   ],
   "source": [
    "# A basic code for matrix input from user\n",
    "\n",
    "R = int(input(\"Enter the number of rows:\"))\n",
    "C = int(input(\"Enter the number of columns:\"))\n",
    "\n",
    "# Initialize matrix\n",
    "matrix = []\n",
    "print(\"Enter the entries rowwise:\")\n",
    "\n",
    "# For user input\n",
    "for i in range(R): # A for loop for row entries\n",
    "    a =[]\n",
    "    for j in range(C): # A for loop for column entries\n",
    "        a.append(int(input()))\n",
    "    matrix.append(a)\n",
    "\n",
    "# For printing the matrix\n",
    "for i in range(R):\n",
    "    for j in range(C):\n",
    "        print(matrix[i][j], end = \" \")\n",
    "    print()"
   ]
  },
  {
   "cell_type": "markdown",
   "id": "a5785e9e",
   "metadata": {},
   "source": [
    "### multiply two matrices"
   ]
  },
  {
   "cell_type": "code",
   "execution_count": null,
   "id": "720e3515",
   "metadata": {},
   "outputs": [],
   "source": [
    "# Program to multiply two matrices using nested loops\n",
    "\n",
    "# take a 3x3 matrix\n",
    "A = [[12, 7, 3],\n",
    "    [4, 5, 6],\n",
    "    [7, 8, 9]]\n",
    "\n",
    "# take a 3x4 matrix\n",
    "B = [[5, 8, 1, 2],\n",
    "    [6, 7, 3, 0],\n",
    "    [4, 5, 9, 1]]\n",
    "    \n",
    "result = [[0, 0, 0, 0],\n",
    "        [0, 0, 0, 0],\n",
    "        [0, 0, 0, 0]]\n",
    "\n",
    "# iterating by row of A\n",
    "for i in range(len(A)):\n",
    "\n",
    "    # iterating by column by B\n",
    "    for j in range(len(B[0])):\n",
    "\n",
    "        # iterating by rows of B\n",
    "        for k in range(len(B)):\n",
    "            result[i][j] += A[i][k] * B[k][j]\n",
    "\n",
    "for r in result:\n",
    "    print(r)\n"
   ]
  }
 ],
 "metadata": {
  "kernelspec": {
   "display_name": "Python 3",
   "language": "python",
   "name": "python3"
  },
  "language_info": {
   "codemirror_mode": {
    "name": "ipython",
    "version": 3
   },
   "file_extension": ".py",
   "mimetype": "text/x-python",
   "name": "python",
   "nbconvert_exporter": "python",
   "pygments_lexer": "ipython3",
   "version": "3.8.8"
  }
 },
 "nbformat": 4,
 "nbformat_minor": 5
}
